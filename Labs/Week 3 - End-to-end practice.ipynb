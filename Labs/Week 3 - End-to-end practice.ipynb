{
 "cells": [
  {
   "cell_type": "markdown",
   "id": "35c89eca",
   "metadata": {},
   "source": [
    "# Notebook 3: Supervised Learning using the SKLearn Library\n",
    "\n",
    "The aim of this notebook is to apply the methods that you have learned about in notebook 1 and 2. If you get stuck (i) check the documentation for the relevant python libraries (ii) ask a teaching assistant. \n"
   ]
  },
  {
   "cell_type": "markdown",
   "id": "03918fe9",
   "metadata": {},
   "source": [
    "For this example, we will be using part of the Heart Disease dataset from the UCI machine learning repository. The data dictionary, which explains each of the columns, can be found at https://archive.ics.uci.edu/ml/datasets/heart+disease.\n",
    "\n",
    "\n",
    "\n",
    "Before that, we import the Python libraries that we will be using. We then import the data using *read_csv*. Note that was use the option na_values='?' to convert question marks in the raw data to nan (not a number). If we did not do this, then Python would interpret columns containing '?' as a string, rather than a number."
   ]
  },
  {
   "cell_type": "code",
   "execution_count": 1,
   "id": "ec10781b",
   "metadata": {},
   "outputs": [],
   "source": [
    "import matplotlib.pyplot as plt\n",
    "import numpy as np\n",
    "import pandas as pd"
   ]
  },
  {
   "cell_type": "code",
   "execution_count": 3,
   "id": "1d06a256",
   "metadata": {
    "scrolled": true
   },
   "outputs": [],
   "source": [
    "data = pd.read_csv('https://raw.githubusercontent.com/maalvarezl/COMP61011-Foundations-of-Machine-Learning-Module/main/Labs/data.csv', na_values='?')\n",
    "y = data.NUM   # Y are the labels\n",
    "X = data.iloc[: , :-1] # X are the features"
   ]
  },
  {
   "cell_type": "markdown",
   "id": "571964ba",
   "metadata": {},
   "source": [
    "## Pre-process data\n",
    "The code below pre-processes the data in the following ways.\n",
    "1.) Encoding any of the categorical variables using one-hot encoding\n",
    "2.) Appropriate imputation of missing data\n",
    "3.) Splitting the data into a training and test set\n",
    "4.) Data normalisation\n"
   ]
  },
  {
   "cell_type": "code",
   "execution_count": 14,
   "id": "9614f5ea",
   "metadata": {},
   "outputs": [
    {
     "data": {
      "text/plain": [
       "<bound method NDFrame.head of      Age  Sex  CP  TRESTBPS  CHOL  FBS  RESTECG  THALACH  EXANG  OLDPEAK  \\\n",
       "0     32    1   1      95.0     0  NaN      0.0    127.0    0.0      0.7   \n",
       "1     34    1   4     115.0     0  NaN      NaN    154.0    0.0      0.2   \n",
       "2     35    1   4       NaN     0  NaN      0.0    130.0    1.0      NaN   \n",
       "3     36    1   4     110.0     0  NaN      0.0    125.0    1.0      1.0   \n",
       "4     38    0   4     105.0     0  NaN      0.0    166.0    0.0      2.8   \n",
       "..   ...  ...  ..       ...   ...  ...      ...      ...    ...      ...   \n",
       "118   70    1   4     115.0     0  0.0      1.0     92.0    1.0      0.0   \n",
       "119   70    1   4     140.0     0  1.0      0.0    157.0    1.0      2.0   \n",
       "120   72    1   3     160.0     0  NaN      2.0    114.0    0.0      1.6   \n",
       "121   73    0   3     160.0     0  0.0      1.0    121.0    0.0      0.0   \n",
       "122   74    1   2     145.0     0  NaN      1.0    123.0    0.0      1.3   \n",
       "\n",
       "     SLOPE   CA  THAL  \n",
       "0      1.0  NaN   NaN  \n",
       "1      1.0  NaN   NaN  \n",
       "2      NaN  NaN   7.0  \n",
       "3      2.0  NaN   6.0  \n",
       "4      1.0  NaN   NaN  \n",
       "..     ...  ...   ...  \n",
       "118    2.0  NaN   7.0  \n",
       "119    2.0  NaN   7.0  \n",
       "120    2.0  2.0   NaN  \n",
       "121    1.0  NaN   3.0  \n",
       "122    1.0  NaN   NaN  \n",
       "\n",
       "[123 rows x 13 columns]>"
      ]
     },
     "execution_count": 14,
     "metadata": {},
     "output_type": "execute_result"
    }
   ],
   "source": [
    "# View the data first\n",
    "X.head"
   ]
  },
  {
   "cell_type": "markdown",
   "id": "1d5131c2",
   "metadata": {},
   "source": [
    "view the output labels too. In this case we've plotted the data as a histogram, and we can see that there are 5 categories of output. As we are trying to classify into more than two categories, we will be using extensions to the Perceptron (one vs all) and Logistic Regression (softmax regression). The SKLearn library automatically applies these extensions"
   ]
  },
  {
   "cell_type": "code",
   "execution_count": 54,
   "id": "d1c71342",
   "metadata": {},
   "outputs": [
    {
     "data": {
      "text/plain": [
       "<AxesSubplot:>"
      ]
     },
     "execution_count": 54,
     "metadata": {},
     "output_type": "execute_result"
    },
    {
     "data": {
      "image/png": "[encoded data removed]",
      "text/plain": [
       "<Figure size 432x288 with 1 Axes>"
      ]
     },
     "metadata": {
      "needs_background": "light"
     },
     "output_type": "display_data"
    }
   ],
   "source": [
    "y.hist()"
   ]
  },
  {
   "cell_type": "markdown",
   "id": "5e30c9c7",
   "metadata": {},
   "source": [
    "## One hot encoding for categorical variables"
   ]
  },
  {
   "cell_type": "code",
   "execution_count": 15,
   "id": "f2fb41ee",
   "metadata": {},
   "outputs": [
    {
     "data": {
      "text/html": [
       "<div>\n",
       "<style scoped>\n",
       "    .dataframe tbody tr th:only-of-type {\n",
       "        vertical-align: middle;\n",
       "    }\n",
       "\n",
       "    .dataframe tbody tr th {\n",
       "        vertical-align: top;\n",
       "    }\n",
       "\n",
       "    .dataframe thead th {\n",
       "        text-align: right;\n",
       "    }\n",
       "</style>\n",
       "<table border=\"1\" class=\"dataframe\">\n",
       "  <thead>\n",
       "    <tr style=\"text-align: right;\">\n",
       "      <th></th>\n",
       "      <th>Age</th>\n",
       "      <th>Sex</th>\n",
       "      <th>TRESTBPS</th>\n",
       "      <th>CHOL</th>\n",
       "      <th>FBS</th>\n",
       "      <th>RESTECG</th>\n",
       "      <th>THALACH</th>\n",
       "      <th>EXANG</th>\n",
       "      <th>OLDPEAK</th>\n",
       "      <th>SLOPE</th>\n",
       "      <th>CA</th>\n",
       "      <th>THAL</th>\n",
       "    </tr>\n",
       "  </thead>\n",
       "  <tbody>\n",
       "    <tr>\n",
       "      <th>0</th>\n",
       "      <td>32</td>\n",
       "      <td>1</td>\n",
       "      <td>95.0</td>\n",
       "      <td>0</td>\n",
       "      <td>NaN</td>\n",
       "      <td>0.0</td>\n",
       "      <td>127.0</td>\n",
       "      <td>0.0</td>\n",
       "      <td>0.7</td>\n",
       "      <td>1.0</td>\n",
       "      <td>NaN</td>\n",
       "      <td>NaN</td>\n",
       "    </tr>\n",
       "    <tr>\n",
       "      <th>1</th>\n",
       "      <td>34</td>\n",
       "      <td>1</td>\n",
       "      <td>115.0</td>\n",
       "      <td>0</td>\n",
       "      <td>NaN</td>\n",
       "      <td>NaN</td>\n",
       "      <td>154.0</td>\n",
       "      <td>0.0</td>\n",
       "      <td>0.2</td>\n",
       "      <td>1.0</td>\n",
       "      <td>NaN</td>\n",
       "      <td>NaN</td>\n",
       "    </tr>\n",
       "    <tr>\n",
       "      <th>2</th>\n",
       "      <td>35</td>\n",
       "      <td>1</td>\n",
       "      <td>NaN</td>\n",
       "      <td>0</td>\n",
       "      <td>NaN</td>\n",
       "      <td>0.0</td>\n",
       "      <td>130.0</td>\n",
       "      <td>1.0</td>\n",
       "      <td>NaN</td>\n",
       "      <td>NaN</td>\n",
       "      <td>NaN</td>\n",
       "      <td>7.0</td>\n",
       "    </tr>\n",
       "    <tr>\n",
       "      <th>3</th>\n",
       "      <td>36</td>\n",
       "      <td>1</td>\n",
       "      <td>110.0</td>\n",
       "      <td>0</td>\n",
       "      <td>NaN</td>\n",
       "      <td>0.0</td>\n",
       "      <td>125.0</td>\n",
       "      <td>1.0</td>\n",
       "      <td>1.0</td>\n",
       "      <td>2.0</td>\n",
       "      <td>NaN</td>\n",
       "      <td>6.0</td>\n",
       "    </tr>\n",
       "    <tr>\n",
       "      <th>4</th>\n",
       "      <td>38</td>\n",
       "      <td>0</td>\n",
       "      <td>105.0</td>\n",
       "      <td>0</td>\n",
       "      <td>NaN</td>\n",
       "      <td>0.0</td>\n",
       "      <td>166.0</td>\n",
       "      <td>0.0</td>\n",
       "      <td>2.8</td>\n",
       "      <td>1.0</td>\n",
       "      <td>NaN</td>\n",
       "      <td>NaN</td>\n",
       "    </tr>\n",
       "    <tr>\n",
       "      <th>...</th>\n",
       "      <td>...</td>\n",
       "      <td>...</td>\n",
       "      <td>...</td>\n",
       "      <td>...</td>\n",
       "      <td>...</td>\n",
       "      <td>...</td>\n",
       "      <td>...</td>\n",
       "      <td>...</td>\n",
       "      <td>...</td>\n",
       "      <td>...</td>\n",
       "      <td>...</td>\n",
       "      <td>...</td>\n",
       "    </tr>\n",
       "    <tr>\n",
       "      <th>118</th>\n",
       "      <td>70</td>\n",
       "      <td>1</td>\n",
       "      <td>115.0</td>\n",
       "      <td>0</td>\n",
       "      <td>0.0</td>\n",
       "      <td>1.0</td>\n",
       "      <td>92.0</td>\n",
       "      <td>1.0</td>\n",
       "      <td>0.0</td>\n",
       "      <td>2.0</td>\n",
       "      <td>NaN</td>\n",
       "      <td>7.0</td>\n",
       "    </tr>\n",
       "    <tr>\n",
       "      <th>119</th>\n",
       "      <td>70</td>\n",
       "      <td>1</td>\n",
       "      <td>140.0</td>\n",
       "      <td>0</td>\n",
       "      <td>1.0</td>\n",
       "      <td>0.0</td>\n",
       "      <td>157.0</td>\n",
       "      <td>1.0</td>\n",
       "      <td>2.0</td>\n",
       "      <td>2.0</td>\n",
       "      <td>NaN</td>\n",
       "      <td>7.0</td>\n",
       "    </tr>\n",
       "    <tr>\n",
       "      <th>120</th>\n",
       "      <td>72</td>\n",
       "      <td>1</td>\n",
       "      <td>160.0</td>\n",
       "      <td>0</td>\n",
       "      <td>NaN</td>\n",
       "      <td>2.0</td>\n",
       "      <td>114.0</td>\n",
       "      <td>0.0</td>\n",
       "      <td>1.6</td>\n",
       "      <td>2.0</td>\n",
       "      <td>2.0</td>\n",
       "      <td>NaN</td>\n",
       "    </tr>\n",
       "    <tr>\n",
       "      <th>121</th>\n",
       "      <td>73</td>\n",
       "      <td>0</td>\n",
       "      <td>160.0</td>\n",
       "      <td>0</td>\n",
       "      <td>0.0</td>\n",
       "      <td>1.0</td>\n",
       "      <td>121.0</td>\n",
       "      <td>0.0</td>\n",
       "      <td>0.0</td>\n",
       "      <td>1.0</td>\n",
       "      <td>NaN</td>\n",
       "      <td>3.0</td>\n",
       "    </tr>\n",
       "    <tr>\n",
       "      <th>122</th>\n",
       "      <td>74</td>\n",
       "      <td>1</td>\n",
       "      <td>145.0</td>\n",
       "      <td>0</td>\n",
       "      <td>NaN</td>\n",
       "      <td>1.0</td>\n",
       "      <td>123.0</td>\n",
       "      <td>0.0</td>\n",
       "      <td>1.3</td>\n",
       "      <td>1.0</td>\n",
       "      <td>NaN</td>\n",
       "      <td>NaN</td>\n",
       "    </tr>\n",
       "  </tbody>\n",
       "</table>\n",
       "<p>123 rows × 12 columns</p>\n",
       "</div>"
      ],
      "text/plain": [
       "     Age  Sex  TRESTBPS  CHOL  FBS  RESTECG  THALACH  EXANG  OLDPEAK  SLOPE  \\\n",
       "0     32    1      95.0     0  NaN      0.0    127.0    0.0      0.7    1.0   \n",
       "1     34    1     115.0     0  NaN      NaN    154.0    0.0      0.2    1.0   \n",
       "2     35    1       NaN     0  NaN      0.0    130.0    1.0      NaN    NaN   \n",
       "3     36    1     110.0     0  NaN      0.0    125.0    1.0      1.0    2.0   \n",
       "4     38    0     105.0     0  NaN      0.0    166.0    0.0      2.8    1.0   \n",
       "..   ...  ...       ...   ...  ...      ...      ...    ...      ...    ...   \n",
       "118   70    1     115.0     0  0.0      1.0     92.0    1.0      0.0    2.0   \n",
       "119   70    1     140.0     0  1.0      0.0    157.0    1.0      2.0    2.0   \n",
       "120   72    1     160.0     0  NaN      2.0    114.0    0.0      1.6    2.0   \n",
       "121   73    0     160.0     0  0.0      1.0    121.0    0.0      0.0    1.0   \n",
       "122   74    1     145.0     0  NaN      1.0    123.0    0.0      1.3    1.0   \n",
       "\n",
       "      CA  THAL  \n",
       "0    NaN   NaN  \n",
       "1    NaN   NaN  \n",
       "2    NaN   7.0  \n",
       "3    NaN   6.0  \n",
       "4    NaN   NaN  \n",
       "..   ...   ...  \n",
       "118  NaN   7.0  \n",
       "119  NaN   7.0  \n",
       "120  2.0   NaN  \n",
       "121  NaN   3.0  \n",
       "122  NaN   NaN  \n",
       "\n",
       "[123 rows x 12 columns]"
      ]
     },
     "execution_count": 15,
     "metadata": {},
     "output_type": "execute_result"
    }
   ],
   "source": [
    "# Encode categorical variables - we need to do this for categorical variables coded as multiple numbers, as the\n",
    "# value of the number has no meaning\n",
    "\n",
    "#encode the CP variable, which takes values 1-4\n",
    "CP_onehot = pd.get_dummies(X.CP,prefix='CP') # create the one hot encoded variables\n",
    "X = pd.concat([X, CP_onehot], axis=1) # add the encoded variable back into the dataframe\n",
    "X.drop(['CP'], axis=1) # remove the original variable"
   ]
  },
  {
   "cell_type": "markdown",
   "id": "00528708",
   "metadata": {},
   "source": [
    "## Impute missing data\n",
    "\n",
    "We'll next determine which features contain missing data, and look at the distributions of the non-missing data for these features.\n",
    "\n",
    "While there are sophisticated ways of dealing with missing data, we will assign the any missing numbers to modal value for each feature. **What do you think the problems are with this approach?**\n",
    "\n",
    "**note that it is more appropriate to first split the data into train/test, and then to impute any missing numbers in the training set (and apply the same approach to the test set - why is this a more appropriate approach?**\n"
   ]
  },
  {
   "cell_type": "code",
   "execution_count": 36,
   "id": "9f58a12d",
   "metadata": {},
   "outputs": [
    {
     "data": {
      "text/plain": [
       "Age           0\n",
       "Sex           0\n",
       "CP            0\n",
       "TRESTBPS      2\n",
       "CHOL          0\n",
       "FBS          75\n",
       "RESTECG       1\n",
       "THALACH       1\n",
       "EXANG         1\n",
       "OLDPEAK       6\n",
       "SLOPE        17\n",
       "CA          118\n",
       "THAL         52\n",
       "dtype: int64"
      ]
     },
     "execution_count": 36,
     "metadata": {},
     "output_type": "execute_result"
    }
   ],
   "source": [
    " X.isna().sum()"
   ]
  },
  {
   "cell_type": "code",
   "execution_count": 38,
   "id": "9260077a",
   "metadata": {},
   "outputs": [
    {
     "data": {
      "text/plain": [
       "<bound method NDFrame.head of      Age  Sex  CP  TRESTBPS  CHOL  FBS  RESTECG  THALACH  EXANG  OLDPEAK  \\\n",
       "0     32    1   1      95.0     0  0.0      0.0    127.0    0.0      0.7   \n",
       "1     34    1   4     115.0     0  0.0      0.0    154.0    0.0      0.2   \n",
       "2     35    1   4     115.0     0  0.0      0.0    130.0    1.0      0.0   \n",
       "3     36    1   4     110.0     0  0.0      0.0    125.0    1.0      1.0   \n",
       "4     38    0   4     105.0     0  0.0      0.0    166.0    0.0      2.8   \n",
       "..   ...  ...  ..       ...   ...  ...      ...      ...    ...      ...   \n",
       "118   70    1   4     115.0     0  0.0      1.0     92.0    1.0      0.0   \n",
       "119   70    1   4     140.0     0  1.0      0.0    157.0    1.0      2.0   \n",
       "120   72    1   3     160.0     0  0.0      2.0    114.0    0.0      1.6   \n",
       "121   73    0   3     160.0     0  0.0      1.0    121.0    0.0      0.0   \n",
       "122   74    1   2     145.0     0  0.0      1.0    123.0    0.0      1.3   \n",
       "\n",
       "     SLOPE   CA  THAL  \n",
       "0      1.0  2.0   7.0  \n",
       "1      1.0  2.0   7.0  \n",
       "2      2.0  2.0   7.0  \n",
       "3      2.0  2.0   6.0  \n",
       "4      1.0  2.0   7.0  \n",
       "..     ...  ...   ...  \n",
       "118    2.0  2.0   7.0  \n",
       "119    2.0  2.0   7.0  \n",
       "120    2.0  2.0   7.0  \n",
       "121    1.0  2.0   3.0  \n",
       "122    1.0  2.0   7.0  \n",
       "\n",
       "[123 rows x 13 columns]>"
      ]
     },
     "execution_count": 38,
     "metadata": {},
     "output_type": "execute_result"
    }
   ],
   "source": [
    "cols = [\"TRESTBPS\", \"FBS\",\"RESTECG\",\"THALACH\",\"EXANG\",\"OLDPEAK\",\"SLOPE\",\"CA\",\"THAL\"]\n",
    "X[cols]=X[cols].fillna(X.mode().iloc[0])\n",
    "X.head"
   ]
  },
  {
   "cell_type": "markdown",
   "id": "54b1f13d",
   "metadata": {},
   "source": [
    "## split into training and test data"
   ]
  },
  {
   "cell_type": "code",
   "execution_count": 39,
   "id": "85de390a",
   "metadata": {},
   "outputs": [],
   "source": [
    "# split the dataset into training + testing\n",
    "# note that we're not importing the whole sklearn library - just the functions we want\n",
    "from sklearn.model_selection import train_test_split\n",
    "X_train, X_test, y_train, y_test = train_test_split(X, y, test_size=0.33, random_state=42)\n",
    "# setting the random_state to a fixed values means that the split between train and test is consistent between runs.\n",
    "# This is useful to check that our code is running properly, but we might want to remove if we were checking variability (for instance) over multiple runs"
   ]
  },
  {
   "cell_type": "code",
   "execution_count": 40,
   "id": "f580c303",
   "metadata": {},
   "outputs": [],
   "source": [
    "# Data normalisation\n",
    "from sklearn.preprocessing import StandardScaler\n",
    "scaler = StandardScaler()\n",
    "scaler.fit(X_train)\n",
    "X_train = scaler.transform(X_train)\n",
    "X_test = scaler.transform(X_test)"
   ]
  },
  {
   "cell_type": "code",
   "execution_count": 62,
   "id": "9b84d5a8",
   "metadata": {},
   "outputs": [
    {
     "data": {
      "text/plain": [
       "array([5.57195122e+01, 9.02439024e-01, 3.70731707e+00, 1.33658537e+02,\n",
       "       0.00000000e+00, 3.65853659e-02, 3.53658537e-01, 1.22085366e+02,\n",
       "       4.87804878e-01, 6.43902439e-01, 1.85365854e+00, 1.97560976e+00,\n",
       "       6.18292683e+00])"
      ]
     },
     "execution_count": 62,
     "metadata": {},
     "output_type": "execute_result"
    }
   ],
   "source": [
    "scaler.mean_ #show the means for each column"
   ]
  },
  {
   "cell_type": "code",
   "execution_count": 63,
   "id": "b8f047b5",
   "metadata": {},
   "outputs": [
    {
     "data": {
      "text/plain": [
       "array([7.80066924e+01, 8.80428316e-02, 4.26531826e-01, 5.49419988e+02,\n",
       "       0.00000000e+00, 3.52468769e-02, 3.26145152e-01, 7.62931737e+02,\n",
       "       2.49851279e-01, 9.16365259e-01, 3.44437835e-01, 2.37953599e-02,\n",
       "       2.49092802e+00])"
      ]
     },
     "execution_count": 63,
     "metadata": {},
     "output_type": "execute_result"
    }
   ],
   "source": [
    "scaler.var_ #show the variances for each column"
   ]
  },
  {
   "cell_type": "markdown",
   "id": "3016339b",
   "metadata": {},
   "source": [
    "## Model Training\n",
    "We will train two models that were introduced in the lectures, a logistic regression and a perceptron. To ensure that the model is training correctly, we plot the training loss after each iteration of the algorithm.\n",
    "\n",
    "### Logistic Regression"
   ]
  },
  {
   "cell_type": "code",
   "execution_count": 41,
   "id": "7d8ea44f",
   "metadata": {},
   "outputs": [
    {
     "data": {
      "text/plain": [
       "LogisticRegression(max_iter=10000)"
      ]
     },
     "execution_count": 41,
     "metadata": {},
     "output_type": "execute_result"
    }
   ],
   "source": [
    "from sklearn.linear_model import LogisticRegression\n",
    "logreg = LogisticRegression(max_iter=10000)\n",
    "logreg.fit(X_train, y_train)"
   ]
  },
  {
   "cell_type": "markdown",
   "id": "ccbbe278",
   "metadata": {},
   "source": [
    "### Perceptron\n"
   ]
  },
  {
   "cell_type": "code",
   "execution_count": 43,
   "id": "3565eac7",
   "metadata": {},
   "outputs": [
    {
     "data": {
      "text/plain": [
       "Perceptron()"
      ]
     },
     "execution_count": 43,
     "metadata": {},
     "output_type": "execute_result"
    }
   ],
   "source": [
    "from sklearn.linear_model import Perceptron\n",
    "model = Perceptron(tol=1e-3, random_state=0)\n",
    "model.fit(X_train, y_train)"
   ]
  },
  {
   "cell_type": "markdown",
   "id": "fc783ade",
   "metadata": {},
   "source": [
    "## Model Evaluation\n",
    "\n",
    "We will evaluate the two models using accuracy (the percentage of correct classifications)"
   ]
  },
  {
   "cell_type": "code",
   "execution_count": 52,
   "id": "94315b9e",
   "metadata": {},
   "outputs": [
    {
     "name": "stdout",
     "output_type": "stream",
     "text": [
      "0.36585365853658536\n"
     ]
    }
   ],
   "source": [
    "score = logreg.score(X_test,y_test)\n",
    "print(score)"
   ]
  },
  {
   "cell_type": "code",
   "execution_count": 47,
   "id": "3e9eafec",
   "metadata": {},
   "outputs": [
    {
     "name": "stdout",
     "output_type": "stream",
     "text": [
      "[[ 0  2  0  1  0]\n",
      " [ 2 11  1  1  0]\n",
      " [ 0  5  2  4  0]\n",
      " [ 0  5  1  2  0]\n",
      " [ 0  2  2  0  0]]\n"
     ]
    }
   ],
   "source": [
    "from sklearn.metrics import accuracy_score\n",
    "y_pred = logreg.predict(X_test)\n",
    "import matplotlib.pyplot as plt\n",
    "import seaborn as sns\n",
    "from sklearn import metrics\n",
    "cm = metrics.confusion_matrix(y_test, y_pred)\n",
    "print(cm)"
   ]
  },
  {
   "cell_type": "code",
   "execution_count": 51,
   "id": "87ec943c",
   "metadata": {},
   "outputs": [
    {
     "data": {
      "image/png": "[encoded data removed]",
      "text/plain": [
       "<Figure size 360x360 with 2 Axes>"
      ]
     },
     "metadata": {
      "needs_background": "light"
     },
     "output_type": "display_data"
    }
   ],
   "source": [
    "plt.figure(figsize=(5,5))\n",
    "sns.heatmap(cm, annot=True, fmt=\".3f\", linewidths=.5, square = True, cmap = 'Blues_r');\n",
    "plt.ylabel('Actual label');\n",
    "plt.xlabel('Predicted label');\n",
    "all_sample_title = 'Accuracy Score: {0}'.format(score)\n",
    "plt.title(all_sample_title, size = 15);"
   ]
  },
  {
   "cell_type": "markdown",
   "id": "e9c04720",
   "metadata": {},
   "source": [
    "## Sensitivity and Specificity\n",
    "\n",
    "In the lectures, we showed how to calculate sensitivity and specificity. These require us to calculate 'True Positives', 'True Negatives', 'False Positives' and 'False Negatives'. These do not readily apply to multiclass classification problems, but we *can* consider each class in turn (in a one vs all way). Doing so will give us a 2x2 confusion matrix for each class:"
   ]
  },
  {
   "cell_type": "code",
   "execution_count": 59,
   "id": "4bfe81ee",
   "metadata": {},
   "outputs": [
    {
     "data": {
      "text/plain": [
       "array([[[36,  2],\n",
       "        [ 3,  0]],\n",
       "\n",
       "       [[12, 14],\n",
       "        [ 4, 11]],\n",
       "\n",
       "       [[26,  4],\n",
       "        [ 9,  2]],\n",
       "\n",
       "       [[27,  6],\n",
       "        [ 6,  2]],\n",
       "\n",
       "       [[37,  0],\n",
       "        [ 4,  0]]], dtype=int64)"
      ]
     },
     "execution_count": 59,
     "metadata": {},
     "output_type": "execute_result"
    }
   ],
   "source": [
    "from sklearn.metrics import multilabel_confusion_matrix\n",
    "multilabel_confusion_matrix(y_test, y_pred)"
   ]
  }
 ],
 "metadata": {
  "kernelspec": {
   "display_name": "Python 3 (ipykernel)",
   "language": "python",
   "name": "python3"
  },
  "language_info": {
   "codemirror_mode": {
    "name": "ipython",
    "version": 3
   },
   "file_extension": ".py",
   "mimetype": "text/x-python",
   "name": "python",
   "nbconvert_exporter": "python",
   "pygments_lexer": "ipython3",
   "version": "3.9.7"
  }
 },
 "nbformat": 4,
 "nbformat_minor": 5
}
