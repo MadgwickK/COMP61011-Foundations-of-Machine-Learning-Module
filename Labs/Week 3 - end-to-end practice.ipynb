{
 "cells": [
  {
   "cell_type": "markdown",
   "id": "35c89eca",
   "metadata": {},
   "source": [
    "# Notebook 3: Supervised Learning using the SKLearn Library\n",
    "\n",
    "The aim of this notebook is to apply the methods that you have learned about in notebook 1 and 2. If you get stuck (i) check the documentation for the relevant python libraries (ii) ask a teaching assistant. \n"
   ]
  },
  {
   "cell_type": "markdown",
   "id": "03918fe9",
   "metadata": {},
   "source": [
    "For this example, we will be using part of the Heart Disease dataset from the UCI machine learning repository. The data dictionary, which explains each of the columns, can be found at https://archive.ics.uci.edu/ml/datasets/heart+disease.\n",
    "\n",
    "\n",
    "Before that, we import the Python libraries that we will be using. We then import the data using *read_csv*. Note that was use the option na_values='?' to convert question marks in the raw data to nan (not a number). If we did not do this, then Python would interpret columns containing '?' as a string, rather than a number."
   ]
  },
  {
   "cell_type": "code",
   "execution_count": 12,
   "id": "ec10781b",
   "metadata": {},
   "outputs": [],
   "source": [
    "import matplotlib.pyplot as plt\n",
    "import numpy as np\n",
    "import pandas as pd"
   ]
  },
  {
   "cell_type": "code",
   "execution_count": 13,
   "id": "1d06a256",
   "metadata": {
    "scrolled": true
   },
   "outputs": [],
   "source": [
    "data = pd.read_csv('data.csv', na_values='?')\n",
    "y = data.NUM   # Y are the labels\n",
    "X = data.iloc[: , :-1] # X are the features"
   ]
  },
  {
   "cell_type": "markdown",
   "id": "f6cd5ca3-adc4-4b43-85c3-4df7d6d541b8",
   "metadata": {},
   "source": [
    "## Exploratory Data Analysis\n",
    "Below, have an initial explore of the data. You may want to think about viewing a few rows of data, and plotting histograms, as we did in the previous notebook."
   ]
  },
  {
   "cell_type": "code",
   "execution_count": null,
   "id": "4130a853-1d53-45a0-8005-16758209faf8",
   "metadata": {},
   "outputs": [],
   "source": [
    "# code for exploratory data analysis"
   ]
  },
  {
   "cell_type": "markdown",
   "id": "571964ba",
   "metadata": {},
   "source": [
    "## Pre-process data\n",
    "Below, pre-process the data. Here are some steps that you may wish to follow:\n",
    "- Encoding any of the categorical variables using one-hot encoding (you could use sklearn's OneHotEncoder, or Panda's getDummies)\n",
    "- Appropriate imputation of missing data\n",
    "- Splitting the data into a training and test set, or in cross-validation folds\n",
    "- Data normalisation/standardisation\n"
   ]
  },
  {
   "cell_type": "code",
   "execution_count": null,
   "id": "7a32c209-fcdf-4da8-82bd-191170b15396",
   "metadata": {},
   "outputs": [],
   "source": [
    "# write code for pre-processing the data here"
   ]
  },
  {
   "cell_type": "markdown",
   "id": "3016339b",
   "metadata": {},
   "source": [
    "## Model Training\n",
    "We will train two models that were introduced in the lectures, a logistic regression and a perceptron.\n",
    "\n",
    "### Logistic Regression"
   ]
  },
  {
   "cell_type": "code",
   "execution_count": 1,
   "id": "7d8ea44f",
   "metadata": {},
   "outputs": [
    {
     "ename": "NameError",
     "evalue": "name 'X_train' is not defined",
     "output_type": "error",
     "traceback": [
      "\u001b[1;31m---------------------------------------------------------------------------\u001b[0m",
      "\u001b[1;31mNameError\u001b[0m                                 Traceback (most recent call last)",
      "\u001b[1;32m~\\AppData\\Local\\Temp/ipykernel_8976/3647857743.py\u001b[0m in \u001b[0;36m<module>\u001b[1;34m\u001b[0m\n\u001b[0;32m      1\u001b[0m \u001b[1;32mfrom\u001b[0m \u001b[0msklearn\u001b[0m\u001b[1;33m.\u001b[0m\u001b[0mlinear_model\u001b[0m \u001b[1;32mimport\u001b[0m \u001b[0mLogisticRegression\u001b[0m\u001b[1;33m\u001b[0m\u001b[1;33m\u001b[0m\u001b[0m\n\u001b[0;32m      2\u001b[0m \u001b[0mlogreg\u001b[0m \u001b[1;33m=\u001b[0m \u001b[0mLogisticRegression\u001b[0m\u001b[1;33m(\u001b[0m\u001b[0mmax_iter\u001b[0m\u001b[1;33m=\u001b[0m\u001b[1;36m10000\u001b[0m\u001b[1;33m)\u001b[0m\u001b[1;33m\u001b[0m\u001b[1;33m\u001b[0m\u001b[0m\n\u001b[1;32m----> 3\u001b[1;33m \u001b[0mlogreg\u001b[0m\u001b[1;33m.\u001b[0m\u001b[0mfit\u001b[0m\u001b[1;33m(\u001b[0m\u001b[0mX_train\u001b[0m\u001b[1;33m,\u001b[0m \u001b[0my_train\u001b[0m\u001b[1;33m)\u001b[0m\u001b[1;33m\u001b[0m\u001b[1;33m\u001b[0m\u001b[0m\n\u001b[0m",
      "\u001b[1;31mNameError\u001b[0m: name 'X_train' is not defined"
     ]
    }
   ],
   "source": [
    "from sklearn.linear_model import LogisticRegression\n",
    "logreg = LogisticRegression(max_iter=10000)\n",
    "logreg.fit(X_train, y_train)"
   ]
  },
  {
   "cell_type": "markdown",
   "id": "ccbbe278",
   "metadata": {},
   "source": [
    "### Perceptron\n"
   ]
  },
  {
   "cell_type": "code",
   "execution_count": 43,
   "id": "3565eac7",
   "metadata": {},
   "outputs": [
    {
     "data": {
      "text/plain": [
       "Perceptron()"
      ]
     },
     "execution_count": 43,
     "metadata": {},
     "output_type": "execute_result"
    }
   ],
   "source": [
    "from sklearn.linear_model import Perceptron\n",
    "model = Perceptron(tol=1e-3, random_state=0)\n",
    "model.fit(X_train, y_train)"
   ]
  },
  {
   "cell_type": "markdown",
   "id": "fc783ade",
   "metadata": {},
   "source": [
    "**In the lectures, we said that the perceptron will not converge unless data are linearly separable. In this case, the data are not linearly separable, so why does the algorithm finish here?**\n",
    "\n",
    "## Model Evaluation\n",
    "\n",
    "Evaluate the two models using accuracy (the percentage of correct classifications), and by creating a confusion matrix"
   ]
  },
  {
   "cell_type": "code",
   "execution_count": 2,
   "id": "3e9eafec",
   "metadata": {},
   "outputs": [],
   "source": [
    "# write your evaluation code here"
   ]
  },
  {
   "cell_type": "code",
   "execution_count": null,
   "id": "3b13db37-1757-4d0b-aa1f-a46a7fca5489",
   "metadata": {},
   "outputs": [],
   "source": []
  }
 ],
 "metadata": {
  "kernelspec": {
   "display_name": "Python 3 (ipykernel)",
   "language": "python",
   "name": "python3"
  },
  "language_info": {
   "codemirror_mode": {
    "name": "ipython",
    "version": 3
   },
   "file_extension": ".py",
   "mimetype": "text/x-python",
   "name": "python",
   "nbconvert_exporter": "python",
   "pygments_lexer": "ipython3",
   "version": "3.9.7"
  }
 },
 "nbformat": 4,
 "nbformat_minor": 5
}
