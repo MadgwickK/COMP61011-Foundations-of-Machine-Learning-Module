{
  "cells": [
    {
      "cell_type": "markdown",
      "metadata": {
        "id": "VT8bW1XxmhGS"
      },
      "source": [
        "# PyTorch for Neural Networks\n",
        "\n",
        "### Oct 2024 by Mingfei Sun\n",
        "\n",
        "In this Notebook, we look at the torch library in Python that allows automatic differentiation. PyTorch will be used to implement different neural network models later on.\n",
        "\n",
        "### Tensors\n",
        "A tensor generalises the concept of vectors and matrices to an arbitrary number of dimensions. Another name for the same concept is multidimensional arrays. The dimensionality of a tensor is the number of indexes used to refer to scalar values within the tensor. The cell below shows an example initialising a Tensor uniformly for 1D, 2D and 3D:"
      ]
    },
    {
      "cell_type": "code",
      "execution_count": null,
      "metadata": {
        "id": "M6Q_LONRjcsh"
      },
      "outputs": [],
      "source": [
        "# We first import the torch library that comes with the Anaconda distribution\n",
        "import torch\n",
        "# Tensor 1D presents 1 index\n",
        "y = torch.rand([2])\n",
        "print('Tensor 1D presents one index','with shape', y.shape,':\\n',y) #get specific size with .shape\n",
        "# Tensor 2D presents 2 indexes\n",
        "y = torch.rand([2,3])\n",
        "print('\\nTensor 2D presents two indexes','with shape',y.shape,':\\n',y)\n",
        "#Tensor 3D presents 3 indexes\n",
        "y = torch.rand([5,2,3])\n",
        "print('\\nTensor 3D presents three indexes','with shape',y.shape,':\\n',y)"
      ]
    },
    {
      "cell_type": "code",
      "execution_count": null,
      "metadata": {
        "id": "Heb2rFyAnNMo"
      },
      "outputs": [],
      "source": [
        "# Create a tensor with specific values\n",
        "x = torch.tensor([4.0,5.0],dtype=torch.float32)\n",
        "y = torch.tensor([2.0,3.0],dtype=torch.float32)\n",
        "\n",
        "# Tensor multiplication (point-wise multiplication)\n",
        "print(x*y)"
      ]
    },
    {
      "cell_type": "markdown",
      "metadata": {
        "id": "hMUiDnsmnPWZ"
      },
      "source": [
        "### Initialise a tensor with torch.zeros or torch.ones"
      ]
    },
    {
      "cell_type": "code",
      "execution_count": null,
      "metadata": {
        "id": "DsX3biTPnRPt"
      },
      "outputs": [],
      "source": [
        "x_zeros = torch.zeros([3,4])\n",
        "print('x_zeros:',x_zeros,'with shape',x_zeros.shape,'\\n')\n",
        "x_ones = torch.ones([2,6])\n",
        "print('x_ones:',x_ones,'with shape',x_ones.shape)"
      ]
    },
    {
      "cell_type": "markdown",
      "metadata": {
        "id": "2cv_hLvFnULA"
      },
      "source": [
        "### Reshape a tensor using .view"
      ]
    },
    {
      "cell_type": "code",
      "execution_count": null,
      "metadata": {
        "id": "bBRpMub9nVuM"
      },
      "outputs": [],
      "source": [
        "y = torch.ones([3,2])\n",
        "y_reshaped = y.view(6,1)  # in contrast to the common numpy library, we use .view instead of .reshape\n",
        "print(y_reshaped)"
      ]
    },
    {
      "cell_type": "markdown",
      "metadata": {
        "id": "f--d-Uk8naFW"
      },
      "source": [
        "### Numpy interoperability\n",
        "\n",
        "PyTorch tensors can be converted efficiently to NumPy arrays and vice versa. By doing so, you can leverage the huge swath of functionality in the wider Python ecosystem that has built up around the NumPy array type."
      ]
    },
    {
      "cell_type": "code",
      "execution_count": null,
      "metadata": {
        "id": "JZ_HBUPuncCa"
      },
      "outputs": [],
      "source": [
        "# Tensor_torch to tensor Numpy\n",
        "Tensor_torch = torch.ones(3,4)\n",
        "Tensor_numpy = Tensor_torch.numpy() #Returns a NumPy multidim. array of the right size, shape and numerical type.\n",
        "print('Array in numpy form with shape', Tensor_numpy.shape,':\\n',Tensor_numpy)\n",
        "\n",
        "# Tensor Numpy to Tensor_torch\n",
        "import numpy as np\n",
        "Tensor_np = np.random.randn(5,8)\n",
        "Tensor_numpy_to_torch = torch.from_numpy(Tensor_np)\n",
        "print('\\nArray from Numpy to Torch with shape', Tensor_numpy_to_torch.shape,':\\n',Tensor_numpy_to_torch)"
      ]
    },
    {
      "cell_type": "markdown",
      "metadata": {
        "id": "EBel83IJnfRJ"
      },
      "source": [
        "## Automatic Differentiation\n",
        "\n",
        "PyTorch allows to automatically obtain the gradients of a tensor with respect to a defined function. When creating the tensor, we have to indicate that it requires the gradient computation using the flag `requires_grad`  "
      ]
    },
    {
      "cell_type": "code",
      "execution_count": null,
      "metadata": {
        "id": "Gl8jqWCTnhCJ"
      },
      "outputs": [],
      "source": [
        "x = torch.rand(3,requires_grad=True)\n",
        "print(x)"
      ]
    },
    {
      "cell_type": "markdown",
      "metadata": {
        "id": "eMLZCjpvnisJ"
      },
      "source": [
        "Notice that now the Tensor shows the flag `requires_grad` as True. We can also activate such a flag in a Tensor already created as follows:"
      ]
    },
    {
      "cell_type": "code",
      "execution_count": null,
      "metadata": {
        "id": "EHUlEr4lnki5"
      },
      "outputs": [],
      "source": [
        "x = torch.tensor([1.0,2.0,3.0])\n",
        "print(x)\n",
        "x.requires_grad_(True)\n",
        "print(x)"
      ]
    },
    {
      "cell_type": "markdown",
      "metadata": {
        "id": "2BETP7KQnmgL"
      },
      "source": [
        "Let us define a function $y=x^2+5$. The function $y$ will not only carry the result of evaluating $x$, but also the gradient function $\\frac{\\partial y}{\\partial x}$ called `grad_fn` in the new tensor $y$"
      ]
    },
    {
      "cell_type": "code",
      "execution_count": null,
      "metadata": {
        "id": "zqDRkAglnoaB"
      },
      "outputs": [],
      "source": [
        "x = torch.tensor([2.0])\n",
        "x.requires_grad_(True)  # indicate we will need the gradients with respecto to this variable\n",
        "y = x**2 + 5\n",
        "print(y)"
      ]
    },
    {
      "cell_type": "markdown",
      "metadata": {
        "id": "ofOx8YaQnp2d"
      },
      "source": [
        "To evaluate the partial derivative $\\frac{\\partial y}{\\partial x}$, we use the `.backward()` function and the result of the gradient evaluation is stored in `x.grad`"
      ]
    },
    {
      "cell_type": "code",
      "execution_count": null,
      "metadata": {
        "id": "7SHJXNFsnr_9"
      },
      "outputs": [],
      "source": [
        "y.backward()  #dy/dx\n",
        "print('PyTorch gradient:', x.grad)\n",
        "\n",
        "# Let us compare with the analytical gradient of y = x**2+5\n",
        "with torch.no_grad():    # this is to only use the tensor value without its gradient information\n",
        "    dy_dx = 2*x  # analytical gradient\n",
        "print('Analytical gradient:', dy_dx)"
      ]
    },
    {
      "cell_type": "markdown",
      "metadata": {
        "id": "42Yn_l-8nthp"
      },
      "source": [
        "If we evaluate a vector $\\mathbf{w}=[w_1, \\ldots, w_D]^{\\top}$, to compute another vector $\\mathbf{g}=[g_1, \\ldots, g_D]^{\\top}$ with elements $g_i=w_i^2+5$, then we obtain a vector $\\mathbf{g}$ that contains each evaluation of the function. If we want to obtain the gradient w.r.t $\\mathbf{w}$ by using \"g.backward()\", we have to bypass a vector of size equal to w.shape to the function, i.e., \"g.backward(vect)\"."
      ]
    },
    {
      "cell_type": "code",
      "execution_count": null,
      "metadata": {
        "id": "HHpbL4W0nvPP"
      },
      "outputs": [],
      "source": [
        "w = torch.tensor([1.0,2.0,3.0])\n",
        "w.requires_grad_(True)\n",
        "\n",
        "g = w**2+5\n",
        "# Below, the values [1.0,1.0,1.0] are multiplied by the gradient g.backward(vect)\n",
        "# of course using the ones does not modify the value of the gradient\n",
        "vect = torch.tensor([1.0,1.0,1.0],dtype=torch.float32)\n",
        "g.backward(vect)\n",
        "print(w.grad)"
      ]
    },
    {
      "cell_type": "markdown",
      "metadata": {
        "id": "t03m6vLpnwzi"
      },
      "source": [
        "On the other hand, when accessing the gradients in a for loop, PyTorch acummulates the gradients at each\n",
        "iteration. In order to avoid this behaviour, we have to use the function .grad.zero_() also at each iteration. See in the example below what happens when commenting and uncommenting the line \"w.grad.zero_()\":"
      ]
    },
    {
      "cell_type": "code",
      "execution_count": null,
      "metadata": {
        "id": "YTmpjVeZny0a"
      },
      "outputs": [],
      "source": [
        "#Pytorch uses a cumulative process for the gradients\n",
        "w = torch.tensor([1.0,2.0,3.0])\n",
        "w.requires_grad_(True)\n",
        "\n",
        "for i in range(3):\n",
        "    g = w**2+5\n",
        "    g.backward(torch.ones_like(w))\n",
        "    print(w.grad)\n",
        "    w.grad.zero_()    #this line avoids the acummulation of the gradients uncomment it to see its effect"
      ]
    },
    {
      "cell_type": "markdown",
      "metadata": {
        "id": "VLX4XI10n0w7"
      },
      "source": [
        "###  Question 1\n",
        "\n",
        "Verify that the gradients provided by PyTorch coincide with the analytical gradients of the function $f = \\exp \\big(-x^2-2x- \\sin (x) \\big)$ w.r.t $x$."
      ]
    },
    {
      "cell_type": "code",
      "execution_count": null,
      "metadata": {
        "id": "q8Ask9RXn3JB"
      },
      "outputs": [],
      "source": [
        "# Provide your answer here"
      ]
    },
    {
      "cell_type": "markdown",
      "metadata": {
        "id": "IyafLOkBoJCE"
      },
      "source": [
        "## Linear Regression Basic Example\n",
        "\n",
        "We now provide a very simple example of linear regression with one input dimension, $y=wx+b$, and illustrate how we use PyTorch to optimise the parameters of the model"
      ]
    },
    {
      "cell_type": "code",
      "execution_count": 14,
      "metadata": {
        "id": "hm8__ek0oLEg"
      },
      "outputs": [],
      "source": [
        "Ndata = 100\n",
        "x = torch.rand(Ndata)\n",
        "true_w = 1.5\n",
        "true_bias = 1.0\n",
        "# We generate the dataset from the actual model but adding some noise\n",
        "y = true_w*x + true_bias + 0.05*torch.randn(Ndata)\n",
        "# We make sure to set the requires_grad flag to True for both paratemers\n",
        "w = torch.tensor(0.0,dtype=torch.float32,requires_grad=True)\n",
        "bias = torch.tensor(0.0,dtype=torch.float32,requires_grad=True)"
      ]
    },
    {
      "cell_type": "markdown",
      "metadata": {
        "id": "tl0U1ZwnoN7W"
      },
      "source": [
        "We now define two useful functions, the prediction function and the objective function"
      ]
    },
    {
      "cell_type": "code",
      "execution_count": 15,
      "metadata": {
        "id": "nLfV9W5joPhL"
      },
      "outputs": [],
      "source": [
        "def model_prediction(x,w,bias):\n",
        "    return w*x + bias\n",
        "\n",
        "def loss_function(y,y_pred):\n",
        "    return ((y_pred-y)**2).mean()  # Mean Squared Error (MSE)"
      ]
    },
    {
      "cell_type": "markdown",
      "metadata": {
        "id": "1oGWfK0CoRl9"
      },
      "source": [
        "And we use gradient descent to estimate the parameters of the model\n",
        "\n",
        "\\begin{align*}\n",
        "    w_{k+1} = w_k - \\eta \\frac{dE}{dw}\\\\\n",
        "    b_{k+1} = b_k - \\eta \\frac{dE}{db}\\\\\n",
        "\\end{align*}\n",
        "\n",
        "We know that there is a closed form solution for $w$ and $b$ through the normal equation. The example is for illustrative purposes."
      ]
    },
    {
      "cell_type": "code",
      "execution_count": null,
      "metadata": {
        "id": "u5QDuATooTpg"
      },
      "outputs": [],
      "source": [
        "Max_Niter = 500\n",
        "step_size = 0.1\n",
        "for Niter in range(Max_Niter):\n",
        "    # Evaluate the prediction and the loss\n",
        "    y_approx = model_prediction(x,w,bias)\n",
        "    my_loss = loss_function(y,y_approx)\n",
        "\n",
        "    # The function .backward() has to be called in order to load the grads in w.grad\n",
        "    # Notice that here it is not necessary to bypass a vector since loss_function is a scalar function\n",
        "    my_loss.backward()\n",
        "\n",
        "    with torch.no_grad():        # this line avoids the gradient update while allowing to change the value of w\n",
        "        w -= step_size * w.grad    # it is necessary to avoid the grad update while modifying the variable\n",
        "        bias -= step_size * bias.grad\n",
        "\n",
        "    # Make the zero gradient to avoid acummulation\n",
        "    w.grad.zero_()\n",
        "    bias.grad.zero_()\n",
        "\n",
        "    # We print the loss, and the parameters values every 50 iterations\n",
        "    if Niter%50==0:\n",
        "        print(f'Iteration = {Niter+1}, Loss = {my_loss:.8f}, w = {w:.3f}, bias = {bias:.3f}')\n",
        "\n",
        "print(f'Iteration = {Niter+1}, Loss = {my_loss:.8f}, w = {w:.3f}, bias = {bias:.3f}')"
      ]
    },
    {
      "cell_type": "markdown",
      "metadata": {
        "id": "9uLRlqGgoVm-"
      },
      "source": [
        "We finally plot the result"
      ]
    },
    {
      "cell_type": "code",
      "execution_count": null,
      "metadata": {
        "id": "gTeGhcnCoXWu"
      },
      "outputs": [],
      "source": [
        "import matplotlib.pyplot as plt\n",
        "%matplotlib inline\n",
        "plt.plot(x,y,'x')\n",
        "xtest = torch.linspace(0,1,10)\n",
        "with torch.no_grad():\n",
        "    y_pred = model_prediction(xtest,w,bias)\n",
        "plt.plot(xtest,y_pred)"
      ]
    },
    {
      "cell_type": "markdown",
      "metadata": {
        "id": "YhPJLMngoZmx"
      },
      "source": [
        "### Loading a .csv dataset\n",
        "\n",
        "We can take advantage of the interoperability between Numpy and PyTorch by loading a .csv data as a numpy array and transforming it to a Torch Tensor using `torch.from_numpy(dataset_np)`."
      ]
    },
    {
      "cell_type": "code",
      "execution_count": 18,
      "metadata": {
        "colab": {
          "base_uri": "https://localhost:8080/"
        },
        "id": "wKXVpeO9obTE",
        "outputId": "9cb0693d-440d-4a25-cc0d-e33f8e689ff7"
      },
      "outputs": [
        {
          "data": {
            "text/plain": [
              "('./winequality-red.csv', <http.client.HTTPMessage at 0x7c8f7a04d5a0>)"
            ]
          },
          "execution_count": 18,
          "metadata": {},
          "output_type": "execute_result"
        }
      ],
      "source": [
        "# This cell is simply to download the winequality-red.csv dataset from its root url\n",
        "import urllib.request\n",
        "urllib.request.urlretrieve('https://archive.ics.uci.edu/ml/machine-learning-databases/wine-quality/winequality-red.csv', './winequality-red.csv')"
      ]
    },
    {
      "cell_type": "code",
      "execution_count": null,
      "metadata": {
        "id": "jcPh_J7aocvP"
      },
      "outputs": [],
      "source": [
        "import numpy as np\n",
        "#In the line below we avoid the first row (skiprows=1) of .csv file that contains names\n",
        "#the delimeter of data for this dataset is \";\"\n",
        "wine_np = np.loadtxt(\"./winequality-red.csv\",dtype=np.float32,delimiter=\";\",skiprows=1)\n",
        "wine_torch = torch.from_numpy(wine_np)  #We take advantage of the interoperability with numpy\n",
        "wine_torch"
      ]
    },
    {
      "cell_type": "markdown",
      "metadata": {
        "id": "WertXAlnpLmP"
      },
      "source": [
        "# Pytorch for MLPs\n",
        "We will now use the pytorch library to train the MLPs. We will use a dataset of digits (MNIST)."
      ]
    },
    {
      "cell_type": "markdown",
      "metadata": {
        "id": "rn3mD6cQpOYH"
      },
      "source": [
        "## Import libraries and load the dataset\n",
        "If you are using your own computer, you will need to install Pytorch. Setup guidance is here: https://pytorch.org/get-started/locally/)"
      ]
    },
    {
      "cell_type": "code",
      "execution_count": null,
      "metadata": {
        "id": "-0z-ZcnIpP3K"
      },
      "outputs": [],
      "source": [
        "# import pytorch library (load the neural network module as nn, for convenience to save us writing torch.nn every time\n",
        "import torch\n",
        "import torch.nn as nn\n",
        "\n",
        "# import the digits dataset\n",
        "from sklearn import datasets\n",
        "import numpy as np\n",
        "import matplotlib.pyplot as plt\n",
        "digits = datasets.load_digits()\n",
        "\n",
        "# get one image\n",
        "image1 = digits.images[1]\n",
        "plt.imshow(image1, cmap='Greys')"
      ]
    },
    {
      "cell_type": "markdown",
      "metadata": {
        "id": "gR0hIbVepRa3"
      },
      "source": [
        "As we discovered in the previous notebook, pytorch uses tensors as its base unit. So, we will first convert the digits dataset into tensors."
      ]
    },
    {
      "cell_type": "code",
      "execution_count": 25,
      "metadata": {
        "id": "5_OwvATLpSs7"
      },
      "outputs": [],
      "source": [
        "from sklearn.model_selection import train_test_split\n",
        "from sklearn.model_selection import cross_val_score\n",
        "from sklearn.neural_network import MLPClassifier\n",
        "from sklearn.metrics import accuracy_score\n",
        "from sklearn import preprocessing\n",
        "\n",
        "X_scaled = preprocessing.scale(digits.data)\n",
        "\n",
        "X_scaled_t = torch.from_numpy(X_scaled)\n",
        "#X_scaled_t = torch.transpose(X_scaled_t,0,1)\n",
        "y_t = torch.from_numpy(digits.target)"
      ]
    },
    {
      "cell_type": "markdown",
      "metadata": {
        "id": "s0nw2pVYpUJm"
      },
      "source": [
        "In the previous part, we explicitly wrote a function called *model_prediction* that described a linear regression model. We apply the same process here, but the model is a little more complex, so we use some of the inbuilt functions within Pytorch. The following code sets up a 1 hidden layer neural network with 20 neurons.\n",
        "\n",
        "(You may have noticed that we have set up a class, rather than a function (def) here. Broadly, a class is an object that can have many functions applied to it. The nature of an Object is beyond the scope of this course, and if you are interested you should investigate material on object oriented programming)."
      ]
    },
    {
      "cell_type": "code",
      "execution_count": 26,
      "metadata": {
        "id": "6I5ElModpWk0"
      },
      "outputs": [],
      "source": [
        "class MLP(nn.Module):\n",
        "    def __init__(self, input_size):\n",
        "        super(MLP, self).__init__()\n",
        "        self.input_size = input_size\n",
        "        self.fc1 = torch.nn.Linear(input_size,20)\n",
        "        self.fc2 = torch.nn.Linear(20,10)\n",
        "        self.sigmoid = torch.nn.Sigmoid()\n",
        "\n",
        "    def forward(self, x):\n",
        "        x = self.fc1(x)\n",
        "        x = self.sigmoid(x)\n",
        "        output = self.fc2(x)\n",
        "\n",
        "        return output    # return output of network"
      ]
    },
    {
      "cell_type": "markdown",
      "metadata": {
        "id": "NVC1imXFpYSu"
      },
      "source": [
        "Rather that explicitly writing out a loss function, we will use pytorch's inbuilt CrossEntropy loss."
      ]
    },
    {
      "cell_type": "code",
      "execution_count": 27,
      "metadata": {
        "id": "vJtrpxH0pZ1M"
      },
      "outputs": [],
      "source": [
        "loss_func = nn.CrossEntropyLoss()"
      ]
    },
    {
      "cell_type": "markdown",
      "metadata": {
        "id": "kvpZ_raCpco2"
      },
      "source": [
        "We now create a training function - if you compare this to the previous part, you should see that it follows the same basic structure as the linear regression example.\n",
        "\n",
        "The only exception is that we set the neural network into *train* mode using mlp.train. This is because some more advanced modifications to a neural network (e.g. batch normalisation) perform differently during training and running."
      ]
    },
    {
      "cell_type": "code",
      "execution_count": 28,
      "metadata": {
        "id": "68DoV5Ggpe8v"
      },
      "outputs": [],
      "source": [
        "def train(num_epochs, network, X_train, y_train):\n",
        "\n",
        "    # this sets the model mode - (i.e. layers like dropout, batchnorm etc behave differently during training compared to testing)\n",
        "    # note that this function was not defined explicitly in CNN, but because CNN is a type of nn.Module, it inherits some functions\n",
        "    # from the more general nn class.\n",
        "    network.train()\n",
        "    for epoch in range(num_epochs):\n",
        "        output = network(X_train) # this is the model prediction\n",
        "        loss = loss_func(output, y_train) # evaluate the loss (error)\n",
        "\n",
        "        # clear gradients for this training step\n",
        "        optimizer.zero_grad()\n",
        "\n",
        "        # backpropagation, compute gradients\n",
        "        loss.backward()\n",
        "        # apply gradients\n",
        "        optimizer.step()\n",
        "\n",
        "        print ('Epoch [{}/{}], Loss: {:.4f}'.format(epoch + 1, num_epochs, loss.item()))\n",
        "\n",
        "    # print the predicted (and true) labels after training. Note that raw output of the neural network is a score for each class, so we use argmax\n",
        "    # to return the class with the highest score\n",
        "    print(torch.argmax(output,1))\n",
        "    print(y_train)"
      ]
    },
    {
      "cell_type": "code",
      "execution_count": null,
      "metadata": {
        "id": "WlJwW4N2pgvm"
      },
      "outputs": [],
      "source": [
        "input_size = X_scaled_t.size(1) # input size is the same size as a digits image (8x8)\n",
        "mlp = MLP(input_size) # set up an instance of the MLP object\n",
        "mlp = mlp.double()\n",
        "\n",
        "# use the adam optimiser to do the updates - this is a modern update to classic stochastic gradient descent\n",
        "from torch import optim\n",
        "optimizer = optim.Adam(mlp.parameters(), lr = 0.005)\n",
        "\n",
        "# call the training function and run over 1000 epochs\n",
        "num_epochs = 50\n",
        "train(num_epochs, mlp, X_scaled_t, y_t.long())"
      ]
    },
    {
      "cell_type": "markdown",
      "metadata": {
        "id": "YaXr9pmQpiwF"
      },
      "source": [
        "## Questions\n",
        "**Q1** Has the model finished training? (How can you tell whether it has or not?)\n",
        "\n",
        "**Q2** Modify the *train* function above to dynamically set the number of training epochs, depending on the change in loss between iterations\n",
        "\n",
        "**Q3** The size (number of neurons) of the hidden layer is 20. Try changing this - how does this affect the loss?\n",
        "\n",
        "**Q4** Try adding an additional hidden layer of size 20 with *tanh activation* - you will need to make sure that the size of the inputs and outputs of each layer match up"
      ]
    },
    {
      "cell_type": "markdown",
      "metadata": {
        "id": "aUa5vPWaR5uI"
      },
      "source": [
        "# MLP for XOR classification\n",
        "In the lecture, we showed that the MLP can be used for XOR classification (A Toy Example on which the logistic regression fails completely). You'll need to implement this classification by using MLP.\n",
        "\n",
        "We first give you a demo code that show that Logistic Regression can't solve the XOR problem. To do this, we first generate the XOR samples."
      ]
    },
    {
      "cell_type": "code",
      "execution_count": null,
      "metadata": {
        "id": "tbBq31IkOvPf"
      },
      "outputs": [],
      "source": [
        "import matplotlib.pyplot as plt\n",
        "import numpy as np\n",
        "from numpy.linalg import cholesky\n",
        "from sklearn.linear_model import LogisticRegression\n",
        "\n",
        "np.random.seed(12)\n",
        "\n",
        "def gaussSample(mu, sigma, n):\n",
        "    A = cholesky(sigma)\n",
        "    Z = np.random.normal(loc=0, scale=1, size=(len(mu), n))\n",
        "    return np.dot(A, Z).T + mu\n",
        "\n",
        "def sqDistance(p, q):\n",
        "    pSOS = np.sum(p ** 2, axis=1)\n",
        "    qSOS = np.sum(q ** 2, axis=1)\n",
        "    pSOS = np.repeat(pSOS[..., np.newaxis], len(qSOS), axis=1)\n",
        "    dist = pSOS + qSOS - 2 * np.dot(p, q.T)\n",
        "    return dist\n",
        "\n",
        "def kernelRbfSigma(X1, X2, sigma):\n",
        "    Z = 1.0 / np.sqrt(2 * np.pi * sigma ** 2)\n",
        "    S = sqDistance(X1, X2)\n",
        "    K = Z * np.exp(-1 / (2 * sigma ** 2) * S)\n",
        "    return K\n",
        "\n",
        "def createXORdata(doplot=False, N=500):\n",
        "    off1 = gaussSample([-2, -2], 0.5 * np.eye(2), N)\n",
        "    off2 = gaussSample([2, 2], 0.5 * np.eye(2), N)\n",
        "    on1 = gaussSample([-2, 2], 0.5 * np.eye(2), N)\n",
        "    on2 = gaussSample([2, -2], 0.5 * np.eye(2), N)\n",
        "    X = np.concatenate([off1, off2, on1, on2], axis=0)\n",
        "    y = np.concatenate([np.zeros((len(off1) + len(off2))), np.ones((len(on1) + len(on2)))], axis=0)\n",
        "\n",
        "    if doplot:\n",
        "        plt.plot(X[y == 0, 0], X[y == 0, 1], 'ob', markersize=8)\n",
        "        plt.plot(X[y == 1, 0], X[y == 1, 1], '+r', markersize=8)\n",
        "        plt.show()\n",
        "    return X, y\n",
        "\n",
        "X, y = createXORdata(True)"
      ]
    },
    {
      "cell_type": "markdown",
      "metadata": {
        "id": "fkkw8kWtcpLm"
      },
      "source": [
        "We now use LogisticRegression to solve this classification task."
      ]
    },
    {
      "cell_type": "code",
      "execution_count": null,
      "metadata": {
        "id": "ljYhu_MdcaVm"
      },
      "outputs": [],
      "source": [
        "tol = 1e-2\n",
        "\n",
        "model = LogisticRegression(tol=tol)\n",
        "model.fit(X, y)\n",
        "ypred = model.predict(X)\n",
        "errorRate = np.mean(ypred != y)\n",
        "\n",
        "clf = LogisticRegression()\n",
        "clf.fit(X, y)\n",
        "\n",
        "fig, ax1 = plt.subplots(1, 1, figsize=(9, 6))\n",
        "# Retrieve the model parameters.\n",
        "b = clf.intercept_[0]\n",
        "w1, w2 = clf.coef_.T\n",
        "# Calculate the intercept and gradient of the decision boundary.\n",
        "c = -b / w2\n",
        "m = -w1 / w2\n",
        "\n",
        "x_min, x_max = X[:, 0].min() - .5, X[:, 0].max() + .5\n",
        "y_min, y_max = X[:, 1].min() - .5, X[:, 1].max() + .5\n",
        "xd = np.array([x_min, x_max])\n",
        "yd = m * xd + c\n",
        "ax1.plot(xd, yd, 'k', lw=1, ls='--')\n",
        "h = .02  # step size in the mesh\n",
        "xx, yy = np.meshgrid(np.arange(x_min, x_max, h), np.arange(y_min, y_max, h))\n",
        "X_plot_raw = np.c_[xx.ravel(), yy.ravel()]\n",
        "\n",
        "Z = clf.predict(X_plot_raw)\n",
        "\n",
        "# Put the result into a color plot\n",
        "Z = Z.reshape(xx.shape)\n",
        "\n",
        "# plot the decision boundary\n",
        "ax1.pcolormesh(xx, yy, Z, cmap='Set3')\n",
        "\n",
        "# Plot also the training points\n",
        "ax1.scatter(X[:, 0], X[:, 1], c=y, edgecolors='k')\n",
        "ax1.set_xlim(xx.min(), xx.max())\n",
        "ax1.set_ylim(yy.min(), yy.max())\n",
        "ax1.set_ylabel(r'x_2')\n",
        "ax1.set_xlabel(r'x_1')\n",
        "ax1.set_title('Simple Logistic regression')"
      ]
    },
    {
      "cell_type": "markdown",
      "metadata": {
        "id": "9N95nfb7WKii"
      },
      "source": [
        "Your task is to implement the MLP defined in the lecture using Pytorch to solve this classification task.  "
      ]
    },
    {
      "cell_type": "code",
      "execution_count": null,
      "metadata": {
        "id": "YOZIsaPpeL6W"
      },
      "outputs": [],
      "source": [
        "# remove the following line and put your codes here\n",
        "assert False"
      ]
    },
    {
      "cell_type": "markdown",
      "metadata": {
        "id": "uISBSL9EeX2p"
      },
      "source": [
        "Train your MLPs. You'll need to plot the scatter plot of $(a_1^{(2)}, a_2^{(2)})$, and the decision boundary. Discuss how the distribution of $(a_1^{(1)}, a_1^{(2)})$ would be different that of $(x_1, x_2)$.  "
      ]
    },
    {
      "cell_type": "code",
      "execution_count": null,
      "metadata": {
        "id": "Y0ohQOyAfzEr"
      },
      "outputs": [],
      "source": [
        "# put your answers here"
      ]
    }
  ],
  "metadata": {
    "colab": {
      "provenance": []
    },
    "kernelspec": {
      "display_name": "Python 3",
      "name": "python3"
    },
    "language_info": {
      "name": "python"
    }
  },
  "nbformat": 4,
  "nbformat_minor": 0
}
