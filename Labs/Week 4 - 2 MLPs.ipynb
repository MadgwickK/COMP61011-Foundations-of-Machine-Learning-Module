{
 "cells": [
  {
   "cell_type": "markdown",
   "metadata": {},
   "source": [
    "# Multilayer perceptrons in SKlearn and Pytorch\n",
    "\n",
    "The aim of this notebook is to train a simple multilayer perceptron (or feed-forward) neural network using both the sklearn and pytorch libraries. In the **first** part of the notebook, we will provide some sparse template code to train the network. The overall structure should be familiar from last week's lab. If you are stuck, do look over last week's notebook, and refer to the sklearn documentation (as well as asking for demonstrator help). In the **second** part of the notebook, we will use pytorch to do the same thing.\n",
    "\n",
    "We tackle the same problem twice to show how the same problem is treated using the two different libraries. The difference between the two libraries is that sklearn is a general-purpose machine learning library, whereas Pytorch is specfically for deep learning (i.e. neural networks). Sklearn is not intended to be a deep-learning library and does not support parallelisation via GPUs. This means it is fine for relatively small examples (<1000 rows, <50 features, 2-3 hidden layers), but becomes very slow for anything larger.\n",
    "\n",
    "## SKlearn for MLPs\n",
    "Last week, we imported data from the UCI repository. This week, we will start by using data that has been bundled with the sklearn library called 'digits'. The digits dataset is a simplified version of the very famous MNIST data set. This is a set of images, in black and white, of hand-drawn numbers from 0 to 9. Before proceeding, we will look at some of the data."
   ]
  },
  {
   "cell_type": "code",
   "execution_count": 1,
   "metadata": {},
   "outputs": [],
   "source": [
    "# import the digits dataset\n",
    "from sklearn import datasets\n",
    "import numpy as np\n",
    "import matplotlib.pyplot as plt\n",
    "digits = datasets.load_digits()"
   ]
  },
  {
   "cell_type": "code",
   "execution_count": 2,
   "metadata": {},
   "outputs": [
    {
     "data": {
      "text/plain": [
       "<matplotlib.image.AxesImage at 0x1b91a256580>"
      ]
     },
     "execution_count": 2,
     "metadata": {},
     "output_type": "execute_result"
    },
    {
     "data": {
      "image/png": "[encoded data removed]",
      "text/plain": [
       "<Figure size 432x288 with 1 Axes>"
      ]
     },
     "metadata": {
      "needs_background": "light"
     },
     "output_type": "display_data"
    }
   ],
   "source": [
    "# get one image\n",
    "image1 = digits.images[1]\n",
    "plt.imshow(image1, cmap='Greys')"
   ]
  },
  {
   "cell_type": "markdown",
   "metadata": {},
   "source": [
    "You should understand what the cmap parameter is doing here. If you do not, read the documentation for imshow (via a google search). The data in *images* is stored as a 2-d array, so that the rows and columns of the array match up with the physical coordinates of the image. The data in *data* is stored as a 1-d array, as shown below. You should compare both arrays to ensure you understand how the image data has been converted. From here, we will be working with *data*, as the sklearn functions take a 1-D array as input.\n",
    "\n",
    "Note that this means, for the MLP we will be training, it does not matter which order the image pixels are, as long as they are consistent."
   ]
  },
  {
   "cell_type": "code",
   "execution_count": 3,
   "metadata": {},
   "outputs": [
    {
     "name": "stdout",
     "output_type": "stream",
     "text": [
      "[[ 0.  0.  0. 12. 13.  5.  0.  0.]\n",
      " [ 0.  0.  0. 11. 16.  9.  0.  0.]\n",
      " [ 0.  0.  3. 15. 16.  6.  0.  0.]\n",
      " [ 0.  7. 15. 16. 16.  2.  0.  0.]\n",
      " [ 0.  0.  1. 16. 16.  3.  0.  0.]\n",
      " [ 0.  0.  1. 16. 16.  6.  0.  0.]\n",
      " [ 0.  0.  1. 16. 16.  6.  0.  0.]\n",
      " [ 0.  0.  0. 11. 16. 10.  0.  0.]]\n",
      "[ 0.  0.  0. 12. 13.  5.  0.  0.  0.  0.  0. 11. 16.  9.  0.  0.  0.  0.\n",
      "  3. 15. 16.  6.  0.  0.  0.  7. 15. 16. 16.  2.  0.  0.  0.  0.  1. 16.\n",
      " 16.  3.  0.  0.  0.  0.  1. 16. 16.  6.  0.  0.  0.  0.  1. 16. 16.  6.\n",
      "  0.  0.  0.  0.  0. 11. 16. 10.  0.  0.]\n"
     ]
    }
   ],
   "source": [
    "print(digits.images[1])\n",
    "print(digits.data[1])"
   ]
  },
  {
   "cell_type": "markdown",
   "metadata": {},
   "source": [
    "Now let us train the MLP. As part of good practice, we scale the digits data. The effect of this is to ensure that any resulting gradients are of a similar scale. This will make the gradient descent process more likely to converge quickly."
   ]
  },
  {
   "cell_type": "code",
   "execution_count": 4,
   "metadata": {},
   "outputs": [],
   "source": [
    "from sklearn.model_selection import train_test_split\n",
    "from sklearn.model_selection import cross_val_score\n",
    "from sklearn.neural_network import MLPClassifier\n",
    "from sklearn.metrics import accuracy_score\n",
    "from sklearn import preprocessing\n",
    "\n",
    "X_scaled = preprocessing.scale(digits.data)\n",
    "\n",
    "# split the data into a training and test set\n",
    "X_train, X_test, y_train, y_test = train_test_split(X_scaled, digits.target, test_size = 0.5)\n",
    "clf = MLPClassifier(solver='lbfgs', alpha=1e-5, hidden_layer_sizes=(20,20), random_state=1)\n",
    "clf.fit(X_train, y_train)\n",
    "y_pred = clf.predict(X_test)"
   ]
  },
  {
   "cell_type": "code",
   "execution_count": 5,
   "metadata": {},
   "outputs": [
    {
     "data": {
      "text/plain": [
       "0.9488320355951056"
      ]
     },
     "execution_count": 5,
     "metadata": {},
     "output_type": "execute_result"
    }
   ],
   "source": [
    "clf.score(X_test, y_test)"
   ]
  },
  {
   "cell_type": "markdown",
   "metadata": {},
   "source": [
    "We now repeat the process using cross validation, instead of a train/test split."
   ]
  },
  {
   "cell_type": "code",
   "execution_count": 6,
   "metadata": {},
   "outputs": [
    {
     "name": "stdout",
     "output_type": "stream",
     "text": [
      "[0.93333333 0.96111111 0.96111111 0.95530726 0.94413408]\n"
     ]
    }
   ],
   "source": [
    "scores = cross_val_score(clf, X_train, y_train, cv=5)\n",
    "print(scores)"
   ]
  },
  {
   "cell_type": "markdown",
   "metadata": {},
   "source": [
    "## Questions\n",
    "Using the code above as a template, experiment with changing some of the free parameters:\n",
    "\n",
    "**Q1.** What do you expect to happen if you remove all hidden layers? Modify the neural network using *hidden_layer_sizes* = (). How do you expect this to compare to a logistic regression model? Write you answer below, and test your hypothesis by switching the neural network model for a logistic regression."
   ]
  },
  {
   "cell_type": "markdown",
   "metadata": {},
   "source": [
    "**Q1 Answer:**\n",
    "Write answer here"
   ]
  },
  {
   "cell_type": "markdown",
   "metadata": {},
   "source": [
    "**Q2.** Now modify the neural network to have one hidden layer with 20 nodes. How does the performance compare to the model with no hidden layers and two hidden layers?"
   ]
  },
  {
   "cell_type": "markdown",
   "metadata": {},
   "source": [
    "**Q2 Answer:** Write answer here"
   ]
  },
  {
   "cell_type": "markdown",
   "metadata": {},
   "source": [
    "**Q3 (Optional)** Investigate what happens as you increase the number of neurons in a one hidden layer network. Produce an appropriate plot to show the result (for instance, with neurons on the x axis and accuracy on the y axis)"
   ]
  },
  {
   "cell_type": "markdown",
   "metadata": {},
   "source": [
    "# Pytorch for MLPs\n",
    "We will now use the pytorch library to train the same type of neural network. We will start by using the digits dataset to replicate the SKlearn neural network exactly. We will then use a larger dataset of digits (MNIST). Before you undertake this section, you should have completed the *Introduction to Pytorch* notebook."
   ]
  },
  {
   "cell_type": "markdown",
   "metadata": {},
   "source": [
    "## Import libraries, including PyTorch\n",
    "If you are using your own computer, you will need to install Pytorch. Setup guidance is here: https://pytorch.org/get-started/locally/)"
   ]
  },
  {
   "cell_type": "code",
   "execution_count": 7,
   "metadata": {},
   "outputs": [],
   "source": [
    "# import pytorch library (load the neural network module as nn, for convenience to save us writing torch.nn every time\n",
    "import torch\n",
    "import torch.nn as nn"
   ]
  },
  {
   "cell_type": "markdown",
   "metadata": {},
   "source": [
    "As we discovered in the previous notebook, pytorch uses tensors as its base unit. So, we will first convert the digits dataset into tensors."
   ]
  },
  {
   "cell_type": "code",
   "execution_count": 13,
   "metadata": {},
   "outputs": [],
   "source": [
    "X_scaled_t = torch.from_numpy(X_scaled)\n",
    "#X_scaled_t = torch.transpose(X_scaled_t,0,1)\n",
    "y_t = torch.from_numpy(digits.target)"
   ]
  },
  {
   "cell_type": "markdown",
   "metadata": {},
   "source": [
    "In the previous notebook, we explicitly wrote a function called *model_prediction* that described a linear regression model. We apply the same process here, but the model is a little more complex, so we use some of the inbuilt functions within Pytorch. The following code sets up a 1 hidden layer neural network with 20 neurons.\n",
    "\n",
    "(You may have noticed that we have set up a class, rather than a function (def) here. Broadly, a class is an object that can have many functions applied to it. The nature of an Object is beyond the scope of this course, and if you are interested you should investigate material on object oriented programming)."
   ]
  },
  {
   "cell_type": "code",
   "execution_count": 14,
   "metadata": {},
   "outputs": [],
   "source": [
    "class MLP(nn.Module):\n",
    "    def __init__(self, input_size):\n",
    "        super(MLP, self).__init__()\n",
    "        self.input_size = input_size\n",
    "        self.fc1 = torch.nn.Linear(input_size,20)\n",
    "        self.fc2 = torch.nn.Linear(20,10)\n",
    "        self.sigmoid = torch.nn.Sigmoid()\n",
    "        \n",
    "    def forward(self, x):\n",
    "        x = self.fc1(x)\n",
    "        x = self.sigmoid(x)\n",
    "        output = self.fc2(x)\n",
    "    \n",
    "        return output    # return output of network"
   ]
  },
  {
   "cell_type": "markdown",
   "metadata": {},
   "source": [
    "Rather that explicitly writing out a loss function, we will use pytorch's inbuilt CrossEntropy loss."
   ]
  },
  {
   "cell_type": "code",
   "execution_count": 15,
   "metadata": {},
   "outputs": [],
   "source": [
    "loss_func = nn.CrossEntropyLoss()"
   ]
  },
  {
   "cell_type": "markdown",
   "metadata": {},
   "source": [
    "We now create a training function - if you compare this to the previous notebook, you should see that it follows the same basic structure as the linear regression example.\n",
    "\n",
    "The only exception is that we set the neural network into *train* mode using mlp.train. This is because some more advanced modifications to a neural network (e.g. batch normalisation) perform differently during training and running."
   ]
  },
  {
   "cell_type": "code",
   "execution_count": 18,
   "metadata": {},
   "outputs": [],
   "source": [
    "def train(num_epochs, network, X_train, y_train):\n",
    "    \n",
    "    # this sets the model mode - (i.e. layers like dropout, batchnorm etc behave differently during training compared to testing)\n",
    "    # note that this function was not defined explicitly in CNN, but because CNN is a type of nn.Module, it inherits some functions\n",
    "    # from the more general nn class.\n",
    "    network.train()\n",
    "    for epoch in range(num_epochs):   \n",
    "        output = network(X_train) # this is the model prediction\n",
    "        loss = loss_func(output, y_train) # evaluate the loss (error)\n",
    "            \n",
    "        # clear gradients for this training step   \n",
    "        optimizer.zero_grad()           \n",
    "            \n",
    "        # backpropagation, compute gradients \n",
    "        loss.backward()    \n",
    "        # apply gradients             \n",
    "        optimizer.step()                \n",
    "            \n",
    "        print ('Epoch [{}/{}], Loss: {:.4f}' \n",
    "                    .format(epoch + 1, num_epochs, loss.item()))\n",
    "        #    pass     \n",
    "        pass\n",
    "    pass\n",
    "\n",
    "    # print the predicted (and true) labels after training. Note that raw output of the neural network is a score for each class, so we use argmax\n",
    "    # to return the class with the highest score\n",
    "    print(torch.argmax(output,1))\n",
    "    print(y_train)"
   ]
  },
  {
   "cell_type": "code",
   "execution_count": 19,
   "metadata": {},
   "outputs": [
    {
     "name": "stdout",
     "output_type": "stream",
     "text": [
      "Epoch [1/50], Loss: 2.3164\n",
      "Epoch [2/50], Loss: 2.2854\n",
      "Epoch [3/50], Loss: 2.2559\n",
      "Epoch [4/50], Loss: 2.2276\n",
      "Epoch [5/50], Loss: 2.2000\n",
      "Epoch [6/50], Loss: 2.1730\n",
      "Epoch [7/50], Loss: 2.1462\n",
      "Epoch [8/50], Loss: 2.1196\n",
      "Epoch [9/50], Loss: 2.0929\n",
      "Epoch [10/50], Loss: 2.0662\n",
      "Epoch [11/50], Loss: 2.0392\n",
      "Epoch [12/50], Loss: 2.0119\n",
      "Epoch [13/50], Loss: 1.9843\n",
      "Epoch [14/50], Loss: 1.9565\n",
      "Epoch [15/50], Loss: 1.9284\n",
      "Epoch [16/50], Loss: 1.9001\n",
      "Epoch [17/50], Loss: 1.8716\n",
      "Epoch [18/50], Loss: 1.8430\n",
      "Epoch [19/50], Loss: 1.8143\n",
      "Epoch [20/50], Loss: 1.7855\n",
      "Epoch [21/50], Loss: 1.7567\n",
      "Epoch [22/50], Loss: 1.7279\n",
      "Epoch [23/50], Loss: 1.6991\n",
      "Epoch [24/50], Loss: 1.6703\n",
      "Epoch [25/50], Loss: 1.6416\n",
      "Epoch [26/50], Loss: 1.6130\n",
      "Epoch [27/50], Loss: 1.5845\n",
      "Epoch [28/50], Loss: 1.5560\n",
      "Epoch [29/50], Loss: 1.5277\n",
      "Epoch [30/50], Loss: 1.4996\n",
      "Epoch [31/50], Loss: 1.4717\n",
      "Epoch [32/50], Loss: 1.4439\n",
      "Epoch [33/50], Loss: 1.4164\n",
      "Epoch [34/50], Loss: 1.3891\n",
      "Epoch [35/50], Loss: 1.3621\n",
      "Epoch [36/50], Loss: 1.3354\n",
      "Epoch [37/50], Loss: 1.3090\n",
      "Epoch [38/50], Loss: 1.2829\n",
      "Epoch [39/50], Loss: 1.2571\n",
      "Epoch [40/50], Loss: 1.2316\n",
      "Epoch [41/50], Loss: 1.2065\n",
      "Epoch [42/50], Loss: 1.1818\n",
      "Epoch [43/50], Loss: 1.1574\n",
      "Epoch [44/50], Loss: 1.1335\n",
      "Epoch [45/50], Loss: 1.1099\n",
      "Epoch [46/50], Loss: 1.0867\n",
      "Epoch [47/50], Loss: 1.0639\n",
      "Epoch [48/50], Loss: 1.0415\n",
      "Epoch [49/50], Loss: 1.0195\n",
      "Epoch [50/50], Loss: 0.9979\n",
      "tensor([0, 1, 1,  ..., 1, 9, 8])\n",
      "tensor([0, 1, 2,  ..., 8, 9, 8])\n"
     ]
    }
   ],
   "source": [
    "input_size = X_scaled_t.size(1) # input size is the same size as a digits image (8x8)\n",
    "mlp = MLP(input_size) # set up an instance of the MLP object\n",
    "mlp = mlp.double()\n",
    "\n",
    "# use the adam optimiser to do the updates - this is a modern update to classic stochastic gradient descent\n",
    "from torch import optim\n",
    "optimizer = optim.Adam(mlp.parameters(), lr = 0.005)\n",
    "\n",
    "# call the training function and run over 1000 epochs\n",
    "num_epochs = 50\n",
    "train(num_epochs, mlp, X_scaled_t, y_t.long())"
   ]
  },
  {
   "cell_type": "markdown",
   "metadata": {},
   "source": [
    "## Questions\n",
    "**Q1** Has the model finished training? (How can you tell whether it has or not?)\n",
    "\n",
    "**Q2** Modify the *train* function above to dynamically set the number of training epochs, depending on the change in loss between iterations\n",
    "\n",
    "**Q3** The size (number of neurons) of the hidden layer is 20. Try changing this - how does this affect the loss?\n",
    "\n",
    "**Q4** Try adding an additional hidden layer of size 20 - you will need to make sure that the size of the inputs and outputs of each layer match up"
   ]
  }
 ],
 "metadata": {
  "kernelspec": {
   "display_name": "Python 3 (ipykernel)",
   "language": "python",
   "name": "python3"
  },
  "language_info": {
   "codemirror_mode": {
    "name": "ipython",
    "version": 3
   },
   "file_extension": ".py",
   "mimetype": "text/x-python",
   "name": "python",
   "nbconvert_exporter": "python",
   "pygments_lexer": "ipython3",
   "version": "3.9.7"
  }
 },
 "nbformat": 4,
 "nbformat_minor": 4
}
