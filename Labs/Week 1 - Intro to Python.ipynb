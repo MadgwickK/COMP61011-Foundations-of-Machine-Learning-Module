{
 "cells": [
  {
   "cell_type": "markdown",
   "metadata": {},
   "source": [
    "# 61011 Week 1\n",
    "\n",
    "You should find the exercises in this level very simple to complete. All of the of the information required to complete these exercises can be found at www.learnpython.org. The cells below provide some skeleton code and some additional questions, but you should attempt to complete these exercises without using the skeleton code first.\n",
    "\n",
    "If you **do** need to refer to the skeleton code, you will struggle with the remainder of the labs. In this case, we strongly advise going through the entire tutorial at www.learnpython.org before proceeding to the next notebook."
   ]
  },
  {
   "cell_type": "markdown",
   "metadata": {},
   "source": [
    "### Write a loop to sum the even numbers from 1 to 100\n",
    "Before looking at the code below, think about whether a FOR loop or WHILE loop is more appropriate for this problem.\n",
    "\n",
    "Type your answer here before revealing the answer below\n",
    "\n",
    "Answer: Both loops can be used to complete the task. In general, a FOR loop should be used when the number of iterations (times around the loop) is pre-determined. This is the case here, when we know, before entering the loop, that we will loop through 50 even numbers\n",
    "\n",
    "A WHILE loop is often slightly slower, as it needs to check a Boolean condition each time the loop is executed. Later in the course, we will see that WHILE loops are necessary when we have a stopping criterion for an iterative algorithm.\n",
    "\n",
    "The code below is a skeleton. Replace the 'xx's "
   ]
  },
  {
   "cell_type": "code",
   "execution_count": 5,
   "metadata": {},
   "outputs": [
    {
     "name": "stdout",
     "output_type": "stream",
     "text": [
      "2450\n"
     ]
    }
   ],
   "source": [
    "count = xx\n",
    "for i in range(xx, xx, xx):\n",
    "    count = xx + xx\n",
    "    \n",
    "print(count)"
   ]
  },
  {
   "cell_type": "markdown",
   "metadata": {},
   "source": [
    "Answer: count = 2450\n",
    "\n",
    "### sum the even numbers 1 to 100 without a loop"
   ]
  },
  {
   "cell_type": "code",
   "execution_count": 7,
   "metadata": {},
   "outputs": [
    {
     "name": "stdout",
     "output_type": "stream",
     "text": [
      "2450\n"
     ]
    }
   ],
   "source": [
    "vec = range(xx,xx,xx)\n",
    "count = sum(xx)\n",
    "print(count)"
   ]
  },
  {
   "cell_type": "markdown",
   "metadata": {},
   "source": [
    "Answer: count = 2450\n",
    "\n",
    "### Write a function to return the sum of its arguments and call it."
   ]
  },
  {
   "cell_type": "code",
   "execution_count": null,
   "metadata": {},
   "outputs": [],
   "source": [
    "def addXY(xx,xx):\n",
    "    return xxxxxx\n",
    "    \n",
    "# call function below:\n",
    "print(addXY(3,2))\n",
    "print(addXY(1,-1))\n",
    "print(addXY(500,30))"
   ]
  },
  {
   "cell_type": "markdown",
   "metadata": {},
   "source": [
    "Answer: 5, 0, 530\n",
    "\n",
    "### Write a function to return the sum of all the even numbers up to a given number, x"
   ]
  },
  {
   "cell_type": "code",
   "execution_count": 8,
   "metadata": {},
   "outputs": [
    {
     "ename": "IndentationError",
     "evalue": "expected an indented block (<ipython-input-8-aa0c272fce53>, line 2)",
     "output_type": "error",
     "traceback": [
      "\u001b[1;36m  File \u001b[1;32m\"<ipython-input-8-aa0c272fce53>\"\u001b[1;36m, line \u001b[1;32m2\u001b[0m\n\u001b[1;33m    count = 0\u001b[0m\n\u001b[1;37m        ^\u001b[0m\n\u001b[1;31mIndentationError\u001b[0m\u001b[1;31m:\u001b[0m expected an indented block\n"
     ]
    }
   ],
   "source": [
    "def sumEven(x):\n",
    "    count = 0\n",
    "    xxx\n",
    "    xxx\n",
    "    return(count)\n",
    "\n",
    "print(sumEven(100))"
   ]
  }
 ],
 "metadata": {
  "kernelspec": {
   "display_name": "Python 3 (ipykernel)",
   "language": "python",
   "name": "python3"
  },
  "language_info": {
   "codemirror_mode": {
    "name": "ipython",
    "version": 3
   },
   "file_extension": ".py",
   "mimetype": "text/x-python",
   "name": "python",
   "nbconvert_exporter": "python",
   "pygments_lexer": "ipython3",
   "version": "3.9.7"
  }
 },
 "nbformat": 4,
 "nbformat_minor": 2
}
